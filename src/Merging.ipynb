{
 "cells": [
  {
   "cell_type": "code",
   "execution_count": 1,
   "metadata": {},
   "outputs": [
    {
     "name": "stdout",
     "output_type": "stream",
     "text": [
      "BuildDeepFaceLab.ipynb\t Merging.ipynb\t entry.ipynb\t\t     scripts\n",
      "DataPreprocessing.ipynb  README.md\t machine-learning-tutorials  workspace\n",
      "DeepFaceLab\t\t Training.ipynb  mlsteam.yml\n"
     ]
    }
   ],
   "source": [
    "!ls"
   ]
  },
  {
   "cell_type": "code",
   "execution_count": 2,
   "metadata": {},
   "outputs": [],
   "source": [
    "import os\n",
    "os.chdir(\"scripts\")"
   ]
  },
  {
   "cell_type": "code",
   "execution_count": 3,
   "metadata": {
    "scrolled": true
   },
   "outputs": [
    {
     "name": "stdout",
     "output_type": "stream",
     "text": [
      "1_clear_workspace.sh\t\t  7_merge_Quick96.sh\n",
      "2_extract_image_from_data_src.sh  8_merged_to_avi.sh\n",
      "3_extract_image_from_data_dst.sh  8_merged_to_mov_lossless.sh\n",
      "4_data_src_extract_faces_S3FD.sh  8_merged_to_mp4.sh\n",
      "5_data_dst_extract_faces_S3FD.sh  8_merged_to_mp4_lossless.sh\n",
      "6_train_Quick96.sh\t\t  env.sh\n"
     ]
    }
   ],
   "source": [
    "!ls"
   ]
  },
  {
   "cell_type": "markdown",
   "metadata": {},
   "source": [
    "# Start Merging"
   ]
  },
  {
   "cell_type": "code",
   "execution_count": 11,
   "metadata": {
    "scrolled": true
   },
   "outputs": [
    {
     "name": "stdout",
     "output_type": "stream",
     "text": [
      "Running merger.\n",
      "\n",
      "Silent start: choosed model \"new\"\n",
      "Loading new_Quick96 model...\n",
      "Silent start: choosed device GeForce GTX 1080\n",
      "Initializing models: 100%|########################| 4/4 [00:00<00:00,  6.82it/s]\n",
      "============= Model Summary =============\n",
      "==                                     ==\n",
      "==        Model name: new_Quick96      ==\n",
      "==                                     ==\n",
      "== Current iteration: 1                ==\n",
      "==                                     ==\n",
      "==----------- Model Options -----------==\n",
      "==                                     ==\n",
      "==        batch_size: 4                ==\n",
      "==                                     ==\n",
      "==------------ Running On -------------==\n",
      "==                                     ==\n",
      "==      Device index: 0                ==\n",
      "==              Name: GeForce GTX 1080 ==\n",
      "==              VRAM: 7.93GB           ==\n",
      "==                                     ==\n",
      "=========================================\n",
      "Collecting alignments: 100%|###############| 1619/1619 [00:08<00:00, 180.85it/s]\n",
      "Computing motion vectors: 100%|############| 1619/1619 [00:02<00:00, 592.87it/s]\n",
      "Running on CPU0.\n",
      "Running on CPU1.\n",
      "Running on CPU3.\n",
      "Running on CPU4.\n",
      "Running on CPU5.\n",
      "Running on CPU6.\n",
      "Running on CPU7.\n",
      "Running on CPU2.\n",
      "Running on CPU8.\n",
      "Running on CPU10.\n",
      "Running on CPU9.\n",
      "Running on CPU12.\n",
      "Running on CPU11.\n",
      "Running on CPU15.\n",
      "Running on CPU13.\n",
      "Running on CPU14.\n",
      "Running on CPU16.\n",
      "Running on CPU18.\n",
      "Running on CPU17.\n",
      "Running on CPU19.\n",
      "Running on CPU20.\n",
      "Running on CPU21.\n",
      "Running on CPU22.\n",
      "Running on CPU23.\n",
      "Merging: 100%|##############################| 1619/1619 [03:18<00:00,  8.15it/s]\n",
      "Done.\n"
     ]
    }
   ],
   "source": [
    "!bash 7_merge_Quick96.sh"
   ]
  },
  {
   "cell_type": "markdown",
   "metadata": {},
   "source": [
    "# Convert to mp4"
   ]
  },
  {
   "cell_type": "code",
   "execution_count": 13,
   "metadata": {
    "scrolled": true
   },
   "outputs": [
    {
     "name": "stdout",
     "output_type": "stream",
     "text": [
      "ffmpeg version 3.4.8-0ubuntu0.2 Copyright (c) 2000-2020 the FFmpeg developers\n",
      "  built with gcc 7 (Ubuntu 7.5.0-3ubuntu1~18.04)\n",
      "  configuration: --prefix=/usr --extra-version=0ubuntu0.2 --toolchain=hardened --libdir=/usr/lib/x86_64-linux-gnu --incdir=/usr/include/x86_64-linux-gnu --enable-gpl --disable-stripping --enable-avresample --enable-avisynth --enable-gnutls --enable-ladspa --enable-libass --enable-libbluray --enable-libbs2b --enable-libcaca --enable-libcdio --enable-libflite --enable-libfontconfig --enable-libfreetype --enable-libfribidi --enable-libgme --enable-libgsm --enable-libmp3lame --enable-libmysofa --enable-libopenjpeg --enable-libopenmpt --enable-libopus --enable-libpulse --enable-librubberband --enable-librsvg --enable-libshine --enable-libsnappy --enable-libsoxr --enable-libspeex --enable-libssh --enable-libtheora --enable-libtwolame --enable-libvorbis --enable-libvpx --enable-libwavpack --enable-libwebp --enable-libx265 --enable-libxml2 --enable-libxvid --enable-libzmq --enable-libzvbi --enable-omx --enable-openal --enable-opengl --enable-sdl2 --enable-libdc1394 --enable-libdrm --enable-libiec61883 --enable-chromaprint --enable-frei0r --enable-libopencv --enable-libx264 --enable-shared\n",
      "  libavutil      55. 78.100 / 55. 78.100\n",
      "  libavcodec     57.107.100 / 57.107.100\n",
      "  libavformat    57. 83.100 / 57. 83.100\n",
      "  libavdevice    57. 10.100 / 57. 10.100\n",
      "  libavfilter     6.107.100 /  6.107.100\n",
      "  libavresample   3.  7.  0 /  3.  7.  0\n",
      "  libswscale      4.  8.100 /  4.  8.100\n",
      "  libswresample   2.  9.100 /  2.  9.100\n",
      "  libpostproc    54.  7.100 / 54.  7.100\n",
      "Input #0, image2pipe, from 'pipe:':\n",
      "  Duration: N/A, bitrate: N/A\n",
      "    Stream #0:0: Video: png, rgb24(pc), 1280x720, 29.97 fps, 29.97 tbr, 29.97 tbn, 29.97 tbc\n",
      "Input #1, mov,mp4,m4a,3gp,3g2,mj2, from '/mlsteam/lab/workspace/data_dst.mp4':\n",
      "  Metadata:\n",
      "    major_brand     : isom\n",
      "    minor_version   : 512\n",
      "    compatible_brands: isomiso2avc1mp41\n",
      "    encoder         : Lavf58.29.100\n",
      "  Duration: 00:00:54.02, start: 0.000000, bitrate: 15841 kb/s\n",
      "    Stream #1:0(und): Video: h264 (High) (avc1 / 0x31637661), yuv420p, 1280x720 [SAR 1:1 DAR 16:9], 15705 kb/s, 29.97 fps, 29.97 tbr, 30k tbn, 59.94 tbc (default)\n",
      "    Metadata:\n",
      "      handler_name    : VideoHandler\n",
      "    Stream #1:1(und): Audio: aac (LC) (mp4a / 0x6134706D), 44100 Hz, stereo, fltp, 128 kb/s (default)\n",
      "    Metadata:\n",
      "      handler_name    : SoundHandler\n",
      "Stream mapping:\n",
      "  Stream #0:0 -> #0:0 (png (native) -> h264 (libx264))\n",
      "  Stream #1:1 -> #0:1 (aac (native) -> aac (native))\n",
      "\u001b[0;35m[image2pipe @ 0x55be9bd98bc0] \u001b[0m\u001b[0;33mThread message queue blocking; consider raising the thread_queue_size option (current value: 8)\n",
      "\u001b[0m\u001b[1;36m[libx264 @ 0x55be9bdb1a80] \u001b[0musing cpu capabilities: MMX2 SSE2Fast SSSE3 SSE4.2 AVX FMA3 BMI2 AVX2\n",
      "\u001b[1;36m[libx264 @ 0x55be9bdb1a80] \u001b[0mprofile High, level 4.1\n",
      "\u001b[1;36m[libx264 @ 0x55be9bdb1a80] \u001b[0m264 - core 152 r2854 e9a5903 - H.264/MPEG-4 AVC codec - Copyleft 2003-2017 - http://www.videolan.org/x264.html - options: cabac=1 ref=3 deblock=1:0:0 analyse=0x3:0x113 me=hex subme=7 psy=1 psy_rd=1.00:0.00 mixed_ref=1 me_range=16 chroma_me=1 trellis=1 8x8dct=1 cqm=0 deadzone=21,11 fast_pskip=1 chroma_qp_offset=-2 threads=3 lookahead_threads=1 sliced_threads=0 nr=0 decimate=1 interlaced=0 bluray_compat=0 constrained_intra=0 bframes=3 b_pyramid=2 b_adapt=1 b_bias=0 direct=1 weightb=1 open_gop=0 weightp=2 keyint=250 keyint_min=25 scenecut=40 intra_refresh=0 rc_lookahead=40 rc=abr mbtree=1 bitrate=16000 ratetol=1.0 qcomp=0.60 qpmin=0 qpmax=69 qpstep=4 ip_ratio=1.40 aq=1:1.00\n",
      "Output #0, mp4, to '/mlsteam/lab/workspace/result.mp4':\n",
      "  Metadata:\n",
      "    encoder         : Lavf57.83.100\n",
      "    Stream #0:0: Video: h264 (libx264) (avc1 / 0x31637661), yuv420p(progressive), 1280x720, q=-1--1, 16000 kb/s, 29.97 fps, 30k tbn, 29.97 tbc\n",
      "    Metadata:\n",
      "      encoder         : Lavc57.107.100 libx264\n",
      "    Side data:\n",
      "      cpb: bitrate max/min/avg: 0/0/16000000 buffer size: 0 vbv_delay: -1\n",
      "    Stream #0:1(und): Audio: aac (LC) (mp4a / 0x6134706D), 48000 Hz, stereo, fltp, 192 kb/s (default)\n",
      "    Metadata:\n",
      "      handler_name    : SoundHandler\n",
      "      encoder         : Lavc57.107.100 aac\n",
      "frame= 1619 fps= 18 q=-1.0 Lsize=  107812kB time=00:00:54.01 bitrate=16350.6kbits/s speed=0.608x    \n",
      "video:106476kB audio:1276kB subtitle:0kB other streams:0kB global headers:0kB muxing overhead: 0.055003%\n",
      "\u001b[1;36m[libx264 @ 0x55be9bdb1a80] \u001b[0mframe I:7     Avg QP: 0.57  size:167488\n",
      "\u001b[1;36m[libx264 @ 0x55be9bdb1a80] \u001b[0mframe P:437   Avg QP: 0.78  size:113514\n",
      "\u001b[1;36m[libx264 @ 0x55be9bdb1a80] \u001b[0mframe B:1175  Avg QP: 2.77  size: 49577\n",
      "\u001b[1;36m[libx264 @ 0x55be9bdb1a80] \u001b[0mconsecutive B-frames:  0.7%  6.4%  3.2% 89.7%\n",
      "\u001b[1;36m[libx264 @ 0x55be9bdb1a80] \u001b[0mmb I  I16..4: 51.9% 14.0% 34.1%\n",
      "\u001b[1;36m[libx264 @ 0x55be9bdb1a80] \u001b[0mmb P  I16..4:  7.6%  3.7%  9.4%  P16..4: 19.2% 10.1%  8.7%  0.0%  0.0%    skip:41.3%\n",
      "\u001b[1;36m[libx264 @ 0x55be9bdb1a80] \u001b[0mmb B  I16..4:  0.5%  0.4%  1.5%  B16..8: 25.4%  7.6%  4.6%  direct: 7.8%  skip:52.1%  L0:45.8% L1:43.2% BI:11.0%\n",
      "\u001b[1;36m[libx264 @ 0x55be9bdb1a80] \u001b[0mfinal ratefactor: 0.73\n",
      "\u001b[1;36m[libx264 @ 0x55be9bdb1a80] \u001b[0m8x8 transform intra:17.6% inter:23.1%\n",
      "\u001b[1;36m[libx264 @ 0x55be9bdb1a80] \u001b[0mcoded y,uvDC,uvAC intra: 68.2% 73.3% 67.7% inter: 29.2% 27.9% 26.5%\n",
      "\u001b[1;36m[libx264 @ 0x55be9bdb1a80] \u001b[0mi16 v,h,dc,p: 67% 17% 10%  5%\n",
      "\u001b[1;36m[libx264 @ 0x55be9bdb1a80] \u001b[0mi8 v,h,dc,ddl,ddr,vr,hd,vl,hu: 41% 17% 21%  3%  3%  3%  3%  4%  4%\n",
      "\u001b[1;36m[libx264 @ 0x55be9bdb1a80] \u001b[0mi4 v,h,dc,ddl,ddr,vr,hd,vl,hu: 44% 18% 11%  4%  5%  5%  4%  5%  4%\n",
      "\u001b[1;36m[libx264 @ 0x55be9bdb1a80] \u001b[0mi8c dc,h,v,p: 40% 19% 29% 12%\n",
      "\u001b[1;36m[libx264 @ 0x55be9bdb1a80] \u001b[0mWeighted P-Frames: Y:0.0% UV:0.0%\n",
      "\u001b[1;36m[libx264 @ 0x55be9bdb1a80] \u001b[0mref P L0: 69.3%  7.4% 16.4%  6.8%\n",
      "\u001b[1;36m[libx264 @ 0x55be9bdb1a80] \u001b[0mref B L0: 86.1% 11.3%  2.6%\n",
      "\u001b[1;36m[libx264 @ 0x55be9bdb1a80] \u001b[0mref B L1: 94.5%  5.5%\n",
      "\u001b[1;36m[libx264 @ 0x55be9bdb1a80] \u001b[0mkb/s:16146.59\n",
      "\u001b[1;36m[aac @ 0x55be9beb9920] \u001b[0mQavg: 1482.512\n",
      "Done.\n",
      "ffmpeg version 3.4.8-0ubuntu0.2 Copyright (c) 2000-2020 the FFmpeg developers\n",
      "  built with gcc 7 (Ubuntu 7.5.0-3ubuntu1~18.04)\n",
      "  configuration: --prefix=/usr --extra-version=0ubuntu0.2 --toolchain=hardened --libdir=/usr/lib/x86_64-linux-gnu --incdir=/usr/include/x86_64-linux-gnu --enable-gpl --disable-stripping --enable-avresample --enable-avisynth --enable-gnutls --enable-ladspa --enable-libass --enable-libbluray --enable-libbs2b --enable-libcaca --enable-libcdio --enable-libflite --enable-libfontconfig --enable-libfreetype --enable-libfribidi --enable-libgme --enable-libgsm --enable-libmp3lame --enable-libmysofa --enable-libopenjpeg --enable-libopenmpt --enable-libopus --enable-libpulse --enable-librubberband --enable-librsvg --enable-libshine --enable-libsnappy --enable-libsoxr --enable-libspeex --enable-libssh --enable-libtheora --enable-libtwolame --enable-libvorbis --enable-libvpx --enable-libwavpack --enable-libwebp --enable-libx265 --enable-libxml2 --enable-libxvid --enable-libzmq --enable-libzvbi --enable-omx --enable-openal --enable-opengl --enable-sdl2 --enable-libdc1394 --enable-libdrm --enable-libiec61883 --enable-chromaprint --enable-frei0r --enable-libopencv --enable-libx264 --enable-shared\n",
      "  libavutil      55. 78.100 / 55. 78.100\n",
      "  libavcodec     57.107.100 / 57.107.100\n",
      "  libavformat    57. 83.100 / 57. 83.100\n",
      "  libavdevice    57. 10.100 / 57. 10.100\n",
      "  libavfilter     6.107.100 /  6.107.100\n",
      "  libavresample   3.  7.  0 /  3.  7.  0\n",
      "  libswscale      4.  8.100 /  4.  8.100\n",
      "  libswresample   2.  9.100 /  2.  9.100\n",
      "  libpostproc    54.  7.100 / 54.  7.100\n",
      "Input #0, image2pipe, from 'pipe:':\n",
      "  Duration: N/A, bitrate: N/A\n",
      "    Stream #0:0: Video: png, gray(pc), 1280x720, 29.97 fps, 29.97 tbr, 29.97 tbn, 29.97 tbc\n",
      "Stream mapping:\n",
      "  Stream #0:0 -> #0:0 (png (native) -> h264 (libx264))\n",
      "\u001b[1;36m[libx264 @ 0x55a158d89b00] \u001b[0musing cpu capabilities: MMX2 SSE2Fast SSSE3 SSE4.2 AVX FMA3 BMI2 AVX2\n",
      "\u001b[1;36m[libx264 @ 0x55a158d89b00] \u001b[0mprofile High 4:4:4 Predictive, level 3.1, 4:2:0 8-bit\n",
      "\u001b[1;36m[libx264 @ 0x55a158d89b00] \u001b[0m264 - core 152 r2854 e9a5903 - H.264/MPEG-4 AVC codec - Copyleft 2003-2017 - http://www.videolan.org/x264.html - options: cabac=1 ref=3 deblock=1:0:0 analyse=0x1:0x111 me=hex subme=7 psy=0 mixed_ref=1 me_range=16 chroma_me=1 trellis=0 8x8dct=1 cqm=0 deadzone=21,11 fast_pskip=0 chroma_qp_offset=0 threads=3 lookahead_threads=1 sliced_threads=0 nr=0 decimate=1 interlaced=0 bluray_compat=0 constrained_intra=0 bframes=0 weightp=2 keyint=250 keyint_min=25 scenecut=40 intra_refresh=0 rc=cqp mbtree=0 qp=0\n",
      "Output #0, mp4, to '/mlsteam/lab/workspace/result_mask.mp4':\n",
      "  Metadata:\n",
      "    encoder         : Lavf57.83.100\n",
      "    Stream #0:0: Video: h264 (libx264) (avc1 / 0x31637661), yuv420p, 1280x720, q=-1--1, 29.97 fps, 30k tbn, 29.97 tbc\n",
      "    Metadata:\n",
      "      encoder         : Lavc57.107.100 libx264\n",
      "    Side data:\n",
      "      cpb: bitrate max/min/avg: 0/0/0 buffer size: 0 vbv_delay: -1\n",
      "frame= 1619 fps= 73 q=-1.0 Lsize=   25150kB time=00:00:53.98 bitrate=3816.3kbits/s speed=2.44x    \n",
      "video:25143kB audio:0kB subtitle:0kB other streams:0kB global headers:0kB muxing overhead: 0.029721%\n",
      "\u001b[1;36m[libx264 @ 0x55a158d89b00] \u001b[0mframe I:7     Avg QP: 0.00  size: 32964\n",
      "\u001b[1;36m[libx264 @ 0x55a158d89b00] \u001b[0mframe P:1612  Avg QP: 0.00  size: 15828\n",
      "\u001b[1;36m[libx264 @ 0x55a158d89b00] \u001b[0mmb I  I16..4: 93.9%  0.0%  6.1%\n",
      "\u001b[1;36m[libx264 @ 0x55a158d89b00] \u001b[0mmb P  I16..4:  0.2%  0.0%  0.0%  P16..4:  4.4%  1.6%  1.0%  0.0%  0.0%    skip:92.8%\n",
      "\u001b[1;36m[libx264 @ 0x55a158d89b00] \u001b[0m8x8 transform intra:0.0% inter:76.9%\n",
      "\u001b[1;36m[libx264 @ 0x55a158d89b00] \u001b[0mcoded y,uvDC,uvAC intra: 17.6% 0.0% 0.0% inter: 5.9% 0.0% 0.0%\n",
      "\u001b[1;36m[libx264 @ 0x55a158d89b00] \u001b[0mi16 v,h,dc,p: 92%  6%  2%  0%\n",
      "\u001b[1;36m[libx264 @ 0x55a158d89b00] \u001b[0mi4 v,h,dc,ddl,ddr,vr,hd,vl,hu: 34% 34% 21%  2%  3%  1%  1%  2%  2%\n",
      "\u001b[1;36m[libx264 @ 0x55a158d89b00] \u001b[0mi8c dc,h,v,p: 100%  0%  0%  0%\n",
      "\u001b[1;36m[libx264 @ 0x55a158d89b00] \u001b[0mWeighted P-Frames: Y:0.0% UV:0.0%\n",
      "\u001b[1;36m[libx264 @ 0x55a158d89b00] \u001b[0mref P L0: 69.5%  2.2% 19.1%  9.2%\n",
      "\u001b[1;36m[libx264 @ 0x55a158d89b00] \u001b[0mkb/s:3812.72\n",
      "Done.\n"
     ]
    }
   ],
   "source": [
    "!bash 8_merged_to_mp4.sh"
   ]
  },
  {
   "cell_type": "code",
   "execution_count": null,
   "metadata": {},
   "outputs": [],
   "source": []
  }
 ],
 "metadata": {
  "kernelspec": {
   "display_name": "Python 3",
   "language": "python",
   "name": "python3"
  },
  "language_info": {
   "codemirror_mode": {
    "name": "ipython",
    "version": 3
   },
   "file_extension": ".py",
   "mimetype": "text/x-python",
   "name": "python",
   "nbconvert_exporter": "python",
   "pygments_lexer": "ipython3",
   "version": "3.6.9"
  }
 },
 "nbformat": 4,
 "nbformat_minor": 4
}
