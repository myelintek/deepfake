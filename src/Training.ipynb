{
 "cells": [
  {
   "cell_type": "code",
   "execution_count": 1,
   "metadata": {},
   "outputs": [
    {
     "name": "stdout",
     "output_type": "stream",
     "text": [
      "BuildDeepFaceLab.ipynb\t Merging.ipynb\t entry.ipynb\t\t     scripts\n",
      "DataPreprocessing.ipynb  README.md\t machine-learning-tutorials  workspace\n",
      "DeepFaceLab\t\t Training.ipynb  mlsteam.yml\n"
     ]
    }
   ],
   "source": [
    "!ls"
   ]
  },
  {
   "cell_type": "code",
   "execution_count": 2,
   "metadata": {},
   "outputs": [],
   "source": [
    "import os\n",
    "os.chdir(\"scripts\")"
   ]
  },
  {
   "cell_type": "code",
   "execution_count": 3,
   "metadata": {
    "scrolled": true
   },
   "outputs": [
    {
     "name": "stdout",
     "output_type": "stream",
     "text": [
      "1_clear_workspace.sh\n",
      "2_extract_image_from_data_src.sh\n",
      "3.1_denoise_data_dst_images.sh\n",
      "3_extract_image_from_data_dst.sh\n",
      "4.1_download_CelebA.sh\n",
      "4.1_download_FFHQ.sh\n",
      "4.1_download_Quick96.sh\n",
      "4.2_data_src_sort.sh\n",
      "4.2_data_src_util_add_landmarks_debug_images.sh\n",
      "4.2_data_src_util_faceset_enhance.sh\n",
      "4.2_data_src_util_faceset_metadata_restore.sh\n",
      "4.2_data_src_util_faceset_metadata_save.sh\n",
      "4.2_data_src_util_faceset_pack.sh\n",
      "4.2_data_src_util_faceset_unpack.sh\n",
      "4.2_data_src_util_recover_original_filename.sh\n",
      "4_data_src_extract_faces_MANUAL.sh\n",
      "4_data_src_extract_faces_S3FD.sh\n",
      "5.2_data_dst_sort.sh\n",
      "5.2_data_dst_util_faceset_pack.sh\n",
      "5.2_data_dst_util_faceset_unpack.sh\n",
      "5.2_data_dst_util_recover_original_filename.sh\n",
      "5_XSeg_data_dst_mask_apply.sh\n",
      "5_XSeg_data_dst_mask_edit.sh\n",
      "5_XSeg_data_dst_mask_fetch.sh\n",
      "5_XSeg_data_dst_mask_remove.sh\n",
      "5_XSeg_data_dst_trained_mask_remove.sh\n",
      "5_XSeg_data_src_mask_apply.sh\n",
      "5_XSeg_data_src_mask_edit.sh\n",
      "5_XSeg_data_src_mask_fetch.sh\n",
      "5_XSeg_data_src_mask_remove.sh\n",
      "5_XSeg_data_src_trained_mask_remove.sh\n",
      "5_XSeg_train.sh\n",
      "5_data_dst_extract_faces_MANUAL.sh\n",
      "5_data_dst_extract_faces_MANUAL_RE-EXTRACT_DELETED_ALIGNED_DEBUG.sh\n",
      "5_data_dst_extract_faces_S3FD.sh\n",
      "5_data_dst_extract_faces_S3FD_+_manual_fix.sh\n",
      "6_train_Quick96.sh\n",
      "6_train_Quick96_no_preview.sh\n",
      "6_train_SAEHD.sh\n",
      "6_train_SAEHD_no_preview.sh\n",
      "7_merge_Quick96.sh\n",
      "7_merge_SAEHD.sh\n",
      "8_merged_to_avi.sh\n",
      "8_merged_to_mov_lossless.sh\n",
      "8_merged_to_mp4.sh\n",
      "8_merged_to_mp4_lossless.sh\n",
      "env.sh\n"
     ]
    }
   ],
   "source": [
    "!ls"
   ]
  },
  {
   "cell_type": "markdown",
   "metadata": {},
   "source": [
    "# Start Training"
   ]
  },
  {
   "cell_type": "code",
   "execution_count": 4,
   "metadata": {
    "scrolled": true
   },
   "outputs": [
    {
     "name": "stdout",
     "output_type": "stream",
     "text": [
      "Running trainer.\n",
      "\n",
      "\n",
      "Model first run.\n",
      "Initializing models: 100%|########################| 5/5 [03:41<00:00, 44.20s/it]\n",
      "Loading samples: 100%|#######################| 654/654 [00:03<00:00, 210.47it/s]\n",
      "Loading samples: 100%|#####################| 1619/1619 [00:05<00:00, 290.03it/s]\n",
      "============= Model Summary =============\n",
      "==                                     ==\n",
      "==        Model name: new_Quick96      ==\n",
      "==                                     ==\n",
      "== Current iteration: 0                ==\n",
      "==                                     ==\n",
      "==----------- Model Options -----------==\n",
      "==                                     ==\n",
      "==        batch_size: 4                ==\n",
      "==                                     ==\n",
      "==------------ Running On -------------==\n",
      "==                                     ==\n",
      "==      Device index: 0                ==\n",
      "==              Name: GeForce GTX 1080 ==\n",
      "==              VRAM: 7.93GB           ==\n",
      "==                                     ==\n",
      "=========================================\n",
      "Starting. Press \"Enter\" to stop training and save model.\n",
      "\n",
      "Trying to do the first iteration. If an error occurs, reduce the model parameters.\n",
      "\n",
      "[08:32:26][#000002][1100ms][6.1727][5.6065]                                     \n",
      "[08:34:22][#001045][0100ms][1.1298][0.5791]^C\n",
      "Process Process-66:\n",
      "Saving:   0%|                                             | 0/5 [00:00<?, ?it/s]Traceback (most recent call last):\n",
      "  File \"/usr/lib/python3.6/multiprocessing/process.py\", line 258, in _bootstrap\n",
      "    self.run()\n",
      "  File \"/usr/lib/python3.6/multiprocessing/process.py\", line 93, in run\n",
      "    self._target(*self._args, **self._kwargs)\n",
      "  File \"/mlsteam/lab/DeepFaceLab/models/ModelBase.py\", line 664, in process\n",
      "    time.sleep(0.01)\n",
      "KeyboardInterrupt\n"
     ]
    }
   ],
   "source": [
    "!bash 6_train_Quick96.sh"
   ]
  },
  {
   "cell_type": "code",
   "execution_count": null,
   "metadata": {},
   "outputs": [],
   "source": []
  }
 ],
 "metadata": {
  "kernelspec": {
   "display_name": "Python 3",
   "language": "python",
   "name": "python3"
  },
  "language_info": {
   "codemirror_mode": {
    "name": "ipython",
    "version": 3
   },
   "file_extension": ".py",
   "mimetype": "text/x-python",
   "name": "python",
   "nbconvert_exporter": "python",
   "pygments_lexer": "ipython3",
   "version": "3.6.9"
  }
 },
 "nbformat": 4,
 "nbformat_minor": 4
}
