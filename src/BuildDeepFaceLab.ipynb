{
 "cells": [
  {
   "cell_type": "markdown",
   "metadata": {},
   "source": [
    "https://www.youtube.com/watch?v=lSM-9RBk3HQ&ab_channel=Deepfakery\n",
    "https://github.com/nagadit/DeepFaceLab_Linux"
   ]
  },
  {
   "cell_type": "code",
   "execution_count": 1,
   "metadata": {},
   "outputs": [
    {
     "name": "stdout",
     "output_type": "stream",
     "text": [
      "Cloning into 'DeepFaceLab_Linux'...\n",
      "remote: Enumerating objects: 51, done.\u001b[K\n",
      "remote: Counting objects: 100% (51/51), done.\u001b[K\n",
      "remote: Compressing objects: 100% (21/21), done.\u001b[K\n",
      "remote: Total 51 (delta 30), reused 48 (delta 30), pack-reused 0\u001b[K\n",
      "Unpacking objects: 100% (51/51), done.\n"
     ]
    }
   ],
   "source": [
    "!git clone --depth 1 https://github.com/nagadit/DeepFaceLab_Linux.git"
   ]
  },
  {
   "cell_type": "code",
   "execution_count": 2,
   "metadata": {},
   "outputs": [
    {
     "name": "stdout",
     "output_type": "stream",
     "text": [
      "Cloning into 'DeepFaceLab'...\n",
      "remote: Enumerating objects: 240, done.\u001b[K\n",
      "remote: Counting objects: 100% (240/240), done.\u001b[K\n",
      "remote: Compressing objects: 100% (214/214), done.\u001b[K\n",
      "remote: Total 240 (delta 22), reused 134 (delta 16), pack-reused 0\u001b[K\n",
      "Receiving objects: 100% (240/240), 252.76 MiB | 15.99 MiB/s, done.\n",
      "Resolving deltas: 100% (22/22), done.\n",
      "Checking out files: 100% (204/204), done.\n"
     ]
    }
   ],
   "source": [
    "!git clone --depth 1 https://github.com/iperov/DeepFaceLab.git"
   ]
  },
  {
   "cell_type": "code",
   "execution_count": 3,
   "metadata": {},
   "outputs": [],
   "source": [
    "!mv DeepFaceLab_Linux/* ."
   ]
  },
  {
   "cell_type": "code",
   "execution_count": 4,
   "metadata": {},
   "outputs": [],
   "source": [
    "!rm -r DeepFaceLab_Linux"
   ]
  },
  {
   "cell_type": "code",
   "execution_count": 5,
   "metadata": {
    "scrolled": true
   },
   "outputs": [
    {
     "name": "stdout",
     "output_type": "stream",
     "text": [
      "Collecting tqdm\n",
      "  Downloading tqdm-4.56.2-py2.py3-none-any.whl (72 kB)\n",
      "\u001b[K     |################################| 72 kB 211 kB/s eta 0:00:011\n",
      "\u001b[?25hCollecting numpy==1.19.3\n",
      "  Downloading numpy-1.19.3-cp36-cp36m-manylinux2010_x86_64.whl (14.9 MB)\n",
      "\u001b[K     |################################| 14.9 MB 8.3 MB/s eta 0:00:01\n",
      "\u001b[?25hCollecting h5py==2.9.0\n",
      "  Downloading h5py-2.9.0-cp36-cp36m-manylinux1_x86_64.whl (2.8 MB)\n",
      "\u001b[K     |################################| 2.8 MB 29.0 MB/s eta 0:00:01\n",
      "\u001b[?25hCollecting opencv-python==4.1.0.25\n",
      "  Downloading opencv_python-4.1.0.25-cp36-cp36m-manylinux1_x86_64.whl (26.6 MB)\n",
      "\u001b[K     |################################| 26.6 MB 89 kB/s s eta 0:00:01\n",
      "\u001b[?25hCollecting ffmpeg-python==0.1.17\n",
      "  Downloading ffmpeg_python-0.1.17-py3-none-any.whl (20 kB)\n",
      "Collecting scikit-image==0.14.2\n",
      "  Downloading scikit_image-0.14.2-cp36-cp36m-manylinux1_x86_64.whl (25.3 MB)\n",
      "\u001b[K     |################################| 25.3 MB 100 kB/s  eta 0:00:01\n",
      "\u001b[?25hCollecting scipy==1.4.1\n",
      "  Downloading scipy-1.4.1-cp36-cp36m-manylinux1_x86_64.whl (26.1 MB)\n",
      "\u001b[K     |################################| 26.1 MB 42.0 MB/s eta 0:00:01\n",
      "\u001b[?25hCollecting colorama\n",
      "  Downloading colorama-0.4.4-py2.py3-none-any.whl (16 kB)\n",
      "Collecting tensorflow-gpu==2.4.0\n",
      "  Downloading tensorflow_gpu-2.4.0-cp36-cp36m-manylinux2010_x86_64.whl (394.7 MB)\n",
      "\u001b[K     |################################| 394.7 MB 4.2 kB/s  eta 0:00:01\n",
      "\u001b[?25hCollecting pyqt5\n",
      "  Downloading PyQt5-5.15.2-5.15.2-cp35.cp36.cp37.cp38.cp39-abi3-manylinux2014_x86_64.whl (68.3 MB)\n",
      "\u001b[K     |################################| 68.3 MB 140 kB/s  eta 0:00:01\n",
      "\u001b[?25hRequirement already satisfied: six in /usr/local/lib/python3.6/dist-packages (from h5py==2.9.0->-r ./DeepFaceLab/requirements-cuda.txt (line 3)) (1.15.0)\n",
      "Collecting future\n",
      "  Downloading future-0.18.2.tar.gz (829 kB)\n",
      "\u001b[K     |################################| 829 kB 38.6 MB/s eta 0:00:01\n",
      "\u001b[?25hRequirement already satisfied: cloudpickle>=0.2.1 in /usr/local/lib/python3.6/dist-packages (from scikit-image==0.14.2->-r ./DeepFaceLab/requirements-cuda.txt (line 6)) (1.6.0)\n",
      "Requirement already satisfied: matplotlib>=2.0.0 in /usr/local/lib/python3.6/dist-packages (from scikit-image==0.14.2->-r ./DeepFaceLab/requirements-cuda.txt (line 6)) (3.3.3)\n",
      "Requirement already satisfied: networkx>=1.8 in /usr/local/lib/python3.6/dist-packages (from scikit-image==0.14.2->-r ./DeepFaceLab/requirements-cuda.txt (line 6)) (2.5)\n",
      "Requirement already satisfied: PyWavelets>=0.4.0 in /usr/local/lib/python3.6/dist-packages (from scikit-image==0.14.2->-r ./DeepFaceLab/requirements-cuda.txt (line 6)) (1.1.1)\n",
      "Collecting dask[array]>=1.0.0\n",
      "  Downloading dask-2021.2.0-py3-none-any.whl (900 kB)\n",
      "\u001b[K     |################################| 900 kB 45.3 MB/s eta 0:00:01\n",
      "\u001b[?25hRequirement already satisfied: pillow>=4.3.0 in /usr/local/lib/python3.6/dist-packages (from scikit-image==0.14.2->-r ./DeepFaceLab/requirements-cuda.txt (line 6)) (7.2.0)\n",
      "Requirement already satisfied: grpcio~=1.32.0 in /usr/local/lib/python3.6/dist-packages (from tensorflow-gpu==2.4.0->-r ./DeepFaceLab/requirements-cuda.txt (line 9)) (1.32.0)\n",
      "Requirement already satisfied: typing-extensions~=3.7.4 in /usr/local/lib/python3.6/dist-packages (from tensorflow-gpu==2.4.0->-r ./DeepFaceLab/requirements-cuda.txt (line 9)) (3.7.4.3)\n",
      "Requirement already satisfied: astunparse~=1.6.3 in /usr/local/lib/python3.6/dist-packages (from tensorflow-gpu==2.4.0->-r ./DeepFaceLab/requirements-cuda.txt (line 9)) (1.6.3)\n",
      "Requirement already satisfied: google-pasta~=0.2 in /usr/local/lib/python3.6/dist-packages (from tensorflow-gpu==2.4.0->-r ./DeepFaceLab/requirements-cuda.txt (line 9)) (0.2.0)\n",
      "Requirement already satisfied: termcolor~=1.1.0 in /usr/local/lib/python3.6/dist-packages (from tensorflow-gpu==2.4.0->-r ./DeepFaceLab/requirements-cuda.txt (line 9)) (1.1.0)\n",
      "Requirement already satisfied: wheel~=0.35 in /usr/local/lib/python3.6/dist-packages (from tensorflow-gpu==2.4.0->-r ./DeepFaceLab/requirements-cuda.txt (line 9)) (0.36.2)\n",
      "Requirement already satisfied: wrapt~=1.12.1 in /usr/local/lib/python3.6/dist-packages (from tensorflow-gpu==2.4.0->-r ./DeepFaceLab/requirements-cuda.txt (line 9)) (1.12.1)\n",
      "Requirement already satisfied: keras-preprocessing~=1.1.2 in /usr/local/lib/python3.6/dist-packages (from tensorflow-gpu==2.4.0->-r ./DeepFaceLab/requirements-cuda.txt (line 9)) (1.1.2)\n",
      "Requirement already satisfied: absl-py~=0.10 in /usr/local/lib/python3.6/dist-packages (from tensorflow-gpu==2.4.0->-r ./DeepFaceLab/requirements-cuda.txt (line 9)) (0.11.0)\n",
      "Requirement already satisfied: flatbuffers~=1.12.0 in /usr/local/lib/python3.6/dist-packages (from tensorflow-gpu==2.4.0->-r ./DeepFaceLab/requirements-cuda.txt (line 9)) (1.12)\n",
      "Requirement already satisfied: tensorflow-estimator<2.5.0,>=2.4.0rc0 in /usr/local/lib/python3.6/dist-packages (from tensorflow-gpu==2.4.0->-r ./DeepFaceLab/requirements-cuda.txt (line 9)) (2.4.0)\n",
      "Requirement already satisfied: tensorboard~=2.4 in /usr/local/lib/python3.6/dist-packages (from tensorflow-gpu==2.4.0->-r ./DeepFaceLab/requirements-cuda.txt (line 9)) (2.4.1)\n",
      "Requirement already satisfied: opt-einsum~=3.3.0 in /usr/local/lib/python3.6/dist-packages (from tensorflow-gpu==2.4.0->-r ./DeepFaceLab/requirements-cuda.txt (line 9)) (3.3.0)\n",
      "Requirement already satisfied: gast==0.3.3 in /usr/local/lib/python3.6/dist-packages (from tensorflow-gpu==2.4.0->-r ./DeepFaceLab/requirements-cuda.txt (line 9)) (0.3.3)\n",
      "Requirement already satisfied: protobuf>=3.9.2 in /usr/local/lib/python3.6/dist-packages (from tensorflow-gpu==2.4.0->-r ./DeepFaceLab/requirements-cuda.txt (line 9)) (3.14.0)\n",
      "Collecting PyQt5-sip<13,>=12.8\n",
      "  Downloading PyQt5_sip-12.8.1-cp36-cp36m-manylinux1_x86_64.whl (278 kB)\n",
      "\u001b[K     |################################| 278 kB 47.4 MB/s eta 0:00:01\n",
      "\u001b[?25hRequirement already satisfied: kiwisolver>=1.0.1 in /usr/local/lib/python3.6/dist-packages (from matplotlib>=2.0.0->scikit-image==0.14.2->-r ./DeepFaceLab/requirements-cuda.txt (line 6)) (1.3.1)\n",
      "Requirement already satisfied: cycler>=0.10 in /usr/local/lib/python3.6/dist-packages (from matplotlib>=2.0.0->scikit-image==0.14.2->-r ./DeepFaceLab/requirements-cuda.txt (line 6)) (0.10.0)\n",
      "Requirement already satisfied: python-dateutil>=2.1 in /usr/local/lib/python3.6/dist-packages (from matplotlib>=2.0.0->scikit-image==0.14.2->-r ./DeepFaceLab/requirements-cuda.txt (line 6)) (2.8.1)\n",
      "Requirement already satisfied: pyparsing!=2.0.4,!=2.1.2,!=2.1.6,>=2.0.3 in /usr/local/lib/python3.6/dist-packages (from matplotlib>=2.0.0->scikit-image==0.14.2->-r ./DeepFaceLab/requirements-cuda.txt (line 6)) (2.4.7)\n",
      "Requirement already satisfied: decorator>=4.3.0 in /usr/local/lib/python3.6/dist-packages (from networkx>=1.8->scikit-image==0.14.2->-r ./DeepFaceLab/requirements-cuda.txt (line 6)) (4.4.2)\n",
      "Requirement already satisfied: pyyaml in /usr/local/lib/python3.6/dist-packages (from dask[array]>=1.0.0->scikit-image==0.14.2->-r ./DeepFaceLab/requirements-cuda.txt (line 6)) (5.4.1)\n",
      "Collecting toolz>=0.8.2; extra == \"array\"\n",
      "  Downloading toolz-0.11.1-py3-none-any.whl (55 kB)\n",
      "\u001b[K     |################################| 55 kB 1.3 MB/s  eta 0:00:01\n",
      "\u001b[?25hRequirement already satisfied: markdown>=2.6.8 in /usr/local/lib/python3.6/dist-packages (from tensorboard~=2.4->tensorflow-gpu==2.4.0->-r ./DeepFaceLab/requirements-cuda.txt (line 9)) (3.3.3)\n",
      "Requirement already satisfied: requests<3,>=2.21.0 in /usr/local/lib/python3.6/dist-packages (from tensorboard~=2.4->tensorflow-gpu==2.4.0->-r ./DeepFaceLab/requirements-cuda.txt (line 9)) (2.25.1)\n",
      "Requirement already satisfied: google-auth<2,>=1.6.3 in /usr/local/lib/python3.6/dist-packages (from tensorboard~=2.4->tensorflow-gpu==2.4.0->-r ./DeepFaceLab/requirements-cuda.txt (line 9)) (1.24.0)\n",
      "Requirement already satisfied: tensorboard-plugin-wit>=1.6.0 in /usr/local/lib/python3.6/dist-packages (from tensorboard~=2.4->tensorflow-gpu==2.4.0->-r ./DeepFaceLab/requirements-cuda.txt (line 9)) (1.8.0)\n",
      "Requirement already satisfied: werkzeug>=0.11.15 in /usr/local/lib/python3.6/dist-packages (from tensorboard~=2.4->tensorflow-gpu==2.4.0->-r ./DeepFaceLab/requirements-cuda.txt (line 9)) (1.0.1)\n",
      "Requirement already satisfied: setuptools>=41.0.0 in /usr/local/lib/python3.6/dist-packages (from tensorboard~=2.4->tensorflow-gpu==2.4.0->-r ./DeepFaceLab/requirements-cuda.txt (line 9)) (51.3.3)\n",
      "Requirement already satisfied: google-auth-oauthlib<0.5,>=0.4.1 in /usr/local/lib/python3.6/dist-packages (from tensorboard~=2.4->tensorflow-gpu==2.4.0->-r ./DeepFaceLab/requirements-cuda.txt (line 9)) (0.4.2)\n",
      "Requirement already satisfied: importlib-metadata; python_version < \"3.8\" in /usr/local/lib/python3.6/dist-packages (from markdown>=2.6.8->tensorboard~=2.4->tensorflow-gpu==2.4.0->-r ./DeepFaceLab/requirements-cuda.txt (line 9)) (3.4.0)\n",
      "Requirement already satisfied: certifi>=2017.4.17 in /usr/local/lib/python3.6/dist-packages (from requests<3,>=2.21.0->tensorboard~=2.4->tensorflow-gpu==2.4.0->-r ./DeepFaceLab/requirements-cuda.txt (line 9)) (2020.12.5)\n",
      "Requirement already satisfied: chardet<5,>=3.0.2 in /usr/local/lib/python3.6/dist-packages (from requests<3,>=2.21.0->tensorboard~=2.4->tensorflow-gpu==2.4.0->-r ./DeepFaceLab/requirements-cuda.txt (line 9)) (4.0.0)\n",
      "Requirement already satisfied: urllib3<1.27,>=1.21.1 in /usr/local/lib/python3.6/dist-packages (from requests<3,>=2.21.0->tensorboard~=2.4->tensorflow-gpu==2.4.0->-r ./DeepFaceLab/requirements-cuda.txt (line 9)) (1.26.2)\n",
      "Requirement already satisfied: idna<3,>=2.5 in /usr/local/lib/python3.6/dist-packages (from requests<3,>=2.21.0->tensorboard~=2.4->tensorflow-gpu==2.4.0->-r ./DeepFaceLab/requirements-cuda.txt (line 9)) (2.8)\n",
      "Requirement already satisfied: rsa<5,>=3.1.4; python_version >= \"3.6\" in /usr/local/lib/python3.6/dist-packages (from google-auth<2,>=1.6.3->tensorboard~=2.4->tensorflow-gpu==2.4.0->-r ./DeepFaceLab/requirements-cuda.txt (line 9)) (4.7)\n",
      "Requirement already satisfied: cachetools<5.0,>=2.0.0 in /usr/local/lib/python3.6/dist-packages (from google-auth<2,>=1.6.3->tensorboard~=2.4->tensorflow-gpu==2.4.0->-r ./DeepFaceLab/requirements-cuda.txt (line 9)) (4.2.0)\n",
      "Requirement already satisfied: pyasn1-modules>=0.2.1 in /usr/local/lib/python3.6/dist-packages (from google-auth<2,>=1.6.3->tensorboard~=2.4->tensorflow-gpu==2.4.0->-r ./DeepFaceLab/requirements-cuda.txt (line 9)) (0.2.8)\n",
      "Requirement already satisfied: requests-oauthlib>=0.7.0 in /usr/local/lib/python3.6/dist-packages (from google-auth-oauthlib<0.5,>=0.4.1->tensorboard~=2.4->tensorflow-gpu==2.4.0->-r ./DeepFaceLab/requirements-cuda.txt (line 9)) (1.3.0)\n",
      "Requirement already satisfied: zipp>=0.5 in /usr/local/lib/python3.6/dist-packages (from importlib-metadata; python_version < \"3.8\"->markdown>=2.6.8->tensorboard~=2.4->tensorflow-gpu==2.4.0->-r ./DeepFaceLab/requirements-cuda.txt (line 9)) (3.4.0)\n",
      "Requirement already satisfied: pyasn1>=0.1.3 in /usr/local/lib/python3.6/dist-packages (from rsa<5,>=3.1.4; python_version >= \"3.6\"->google-auth<2,>=1.6.3->tensorboard~=2.4->tensorflow-gpu==2.4.0->-r ./DeepFaceLab/requirements-cuda.txt (line 9)) (0.4.8)\n",
      "Requirement already satisfied: oauthlib>=3.0.0 in /usr/local/lib/python3.6/dist-packages (from requests-oauthlib>=0.7.0->google-auth-oauthlib<0.5,>=0.4.1->tensorboard~=2.4->tensorflow-gpu==2.4.0->-r ./DeepFaceLab/requirements-cuda.txt (line 9)) (3.1.0)\n",
      "Building wheels for collected packages: future\n",
      "  Building wheel for future (setup.py) ... \u001b[?25ldone\n",
      "\u001b[?25h  Created wheel for future: filename=future-0.18.2-py3-none-any.whl size=491059 sha256=c1588349992416ceead30975fcb0a579e59735aaa74591b23575d057be62241b\n",
      "  Stored in directory: /mlsteam/.cache/pip/wheels/6e/9c/ed/4499c9865ac1002697793e0ae05ba6be33553d098f3347fb94\n",
      "Successfully built future\n",
      "Installing collected packages: tqdm, numpy, h5py, opencv-python, future, ffmpeg-python, toolz, dask, scipy, scikit-image, colorama, tensorflow-gpu, PyQt5-sip, pyqt5\n",
      "  Attempting uninstall: numpy\n",
      "    Found existing installation: numpy 1.19.2\n",
      "    Uninstalling numpy-1.19.2:\n",
      "      Successfully uninstalled numpy-1.19.2\n",
      "  Attempting uninstall: h5py\n",
      "    Found existing installation: h5py 2.10.0\n",
      "    Uninstalling h5py-2.10.0:\n",
      "      Successfully uninstalled h5py-2.10.0\n",
      "  Attempting uninstall: opencv-python\n",
      "    Found existing installation: opencv-python 4.4.0.42\n",
      "    Uninstalling opencv-python-4.4.0.42:\n",
      "      Successfully uninstalled opencv-python-4.4.0.42\n",
      "  Attempting uninstall: scipy\n",
      "    Found existing installation: scipy 1.5.4\n",
      "    Uninstalling scipy-1.5.4:\n",
      "      Successfully uninstalled scipy-1.5.4\n",
      "  Attempting uninstall: scikit-image\n",
      "    Found existing installation: scikit-image 0.17.2\n",
      "    Uninstalling scikit-image-0.17.2:\n",
      "      Successfully uninstalled scikit-image-0.17.2\n",
      "  Attempting uninstall: tensorflow-gpu\n",
      "    Found existing installation: tensorflow-gpu 2.4.1\n",
      "    Uninstalling tensorflow-gpu-2.4.1:\n",
      "      Successfully uninstalled tensorflow-gpu-2.4.1\n",
      "\u001b[31mERROR: After October 2020 you may experience errors when installing or updating packages. This is because pip will change the way that it resolves dependency conflicts.\n",
      "\n",
      "We recommend you use --use-feature=2020-resolver to test your packages with the new resolver before it becomes the default.\n",
      "\n",
      "tensorflow-gpu 2.4.0 requires h5py~=2.10.0, but you'll have h5py 2.9.0 which is incompatible.\u001b[0m\n",
      "Successfully installed PyQt5-sip-12.8.1 colorama-0.4.4 dask-2021.2.0 ffmpeg-python-0.1.17 future-0.18.2 h5py-2.9.0 numpy-1.19.3 opencv-python-4.1.0.25 pyqt5-5.15.2 scikit-image-0.14.2 scipy-1.4.1 tensorflow-gpu-2.4.0 toolz-0.11.1 tqdm-4.56.2\n",
      "\u001b[33mWARNING: You are using pip version 20.2.4; however, version 21.0.1 is available.\n",
      "You should consider upgrading via the '/usr/bin/python3 -m pip install --upgrade pip' command.\u001b[0m\n"
     ]
    }
   ],
   "source": [
    "!pip install -r ./DeepFaceLab/requirements-cuda.txt"
   ]
  },
  {
   "cell_type": "code",
   "execution_count": 6,
   "metadata": {},
   "outputs": [],
   "source": [
    "!sed -i 's/conda activate deepfacelab/# conda activate deepfacelab/' scripts/env.sh"
   ]
  },
  {
   "cell_type": "code",
   "execution_count": 7,
   "metadata": {},
   "outputs": [],
   "source": [
    "!sed -i 's/export DFL_PYTHON=\"python3.7\"/export DFL_PYTHON=\"python3.6\"/' scripts/env.sh"
   ]
  },
  {
   "cell_type": "code",
   "execution_count": 8,
   "metadata": {},
   "outputs": [],
   "source": [
    "import os\n",
    "os.chdir(\"scripts\")\n",
    "!bash 1_clear_workspace.sh"
   ]
  },
  {
   "cell_type": "code",
   "execution_count": null,
   "metadata": {},
   "outputs": [],
   "source": []
  }
 ],
 "metadata": {
  "kernelspec": {
   "display_name": "Python 3",
   "language": "python",
   "name": "python3"
  },
  "language_info": {
   "codemirror_mode": {
    "name": "ipython",
    "version": 3
   },
   "file_extension": ".py",
   "mimetype": "text/x-python",
   "name": "python",
   "nbconvert_exporter": "python",
   "pygments_lexer": "ipython3",
   "version": "3.6.9"
  }
 },
 "nbformat": 4,
 "nbformat_minor": 4
}
